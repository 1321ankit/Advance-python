{
 "cells": [
  {
   "cell_type": "code",
   "execution_count": null,
   "id": "9884bed4-04ca-42b8-8010-b451d815b16f",
   "metadata": {},
   "outputs": [],
   "source": [
    "#Numpy"
   ]
  },
  {
   "cell_type": "code",
   "execution_count": null,
   "id": "ce8e24d7-f331-4858-b351-a744a9a90987",
   "metadata": {},
   "outputs": [],
   "source": [
    "Numpy is a open source library of python and its use for scintific calculations."
   ]
  },
  {
   "cell_type": "code",
   "execution_count": null,
   "id": "5f40dcbe-967b-47de-9551-e7b41b2e420c",
   "metadata": {},
   "outputs": [],
   "source": [
    "#why numpy?\n",
    "#1. Homogenous data type\n",
    "#2. less Memory\n",
    "#3. fast execution "
   ]
  },
  {
   "cell_type": "code",
   "execution_count": 1,
   "id": "07201029-b4d6-44c5-b005-acd2f6d36669",
   "metadata": {},
   "outputs": [
    {
     "name": "stdout",
     "output_type": "stream",
     "text": [
      "Defaulting to user installation because normal site-packages is not writeable\n",
      "Requirement already satisfied: numpy in c:\\programdata\\anaconda3\\lib\\site-packages (1.26.4)\n"
     ]
    }
   ],
   "source": [
    "!pip install numpy\n"
   ]
  },
  {
   "cell_type": "code",
   "execution_count": 2,
   "id": "13ecbd61-ffbc-4a0b-9c3e-7c96fb9e2368",
   "metadata": {},
   "outputs": [],
   "source": [
    "import numpy as np"
   ]
  },
  {
   "cell_type": "code",
   "execution_count": 4,
   "id": "413d3c1e-e622-4f18-b147-c03fa5bebf38",
   "metadata": {},
   "outputs": [
    {
     "data": {
      "text/plain": [
       "list"
      ]
     },
     "execution_count": 4,
     "metadata": {},
     "output_type": "execute_result"
    }
   ],
   "source": [
    "a= [1,45,78,90]\n",
    "type(a)"
   ]
  },
  {
   "cell_type": "code",
   "execution_count": 6,
   "id": "0b860894-920d-4acd-8dab-9d8a95c7210a",
   "metadata": {},
   "outputs": [
    {
     "data": {
      "text/plain": [
       "array([ 1, 45, 78, 90])"
      ]
     },
     "execution_count": 6,
     "metadata": {},
     "output_type": "execute_result"
    }
   ],
   "source": [
    "b= np.array(a)\n",
    "b"
   ]
  },
  {
   "cell_type": "code",
   "execution_count": 7,
   "id": "8ccee6f9-ba0d-49dc-a4e8-706ac771d617",
   "metadata": {},
   "outputs": [
    {
     "data": {
      "text/plain": [
       "1"
      ]
     },
     "execution_count": 7,
     "metadata": {},
     "output_type": "execute_result"
    }
   ],
   "source": [
    "b.ndim"
   ]
  },
  {
   "cell_type": "code",
   "execution_count": 8,
   "id": "536f65a8-a1dd-443d-b0d0-d74ea3506e14",
   "metadata": {},
   "outputs": [
    {
     "data": {
      "text/plain": [
       "array([[1, 2, 3],\n",
       "       [4, 5, 6],\n",
       "       [7, 8, 9]])"
      ]
     },
     "execution_count": 8,
     "metadata": {},
     "output_type": "execute_result"
    }
   ],
   "source": [
    "p=[[1,2,3],[4,5,6],[7,8,9]]\n",
    "q=np.array(p)\n",
    "q"
   ]
  },
  {
   "cell_type": "code",
   "execution_count": 10,
   "id": "56a239b0-3a45-4c70-903f-e35fe8195662",
   "metadata": {},
   "outputs": [
    {
     "name": "stdout",
     "output_type": "stream",
     "text": [
      "Total shape: (3, 3)\n",
      "Total Elements: 9\n",
      "Total Dimension: 2\n"
     ]
    }
   ],
   "source": [
    "print(\"Total shape:\",q.shape) ## shape=row,column\n",
    "print(\"Total Elements:\",q.size) ## size=row*column\n",
    "print(\"Total Dimension:\",q.ndim) ## ndim--> dimension"
   ]
  },
  {
   "cell_type": "markdown",
   "id": "044603f3-d67c-4610-b7e4-756334a2b7d9",
   "metadata": {},
   "source": [
    "How can we create user define array?"
   ]
  },
  {
   "cell_type": "code",
   "execution_count": 11,
   "id": "f76e2a34-5798-43ea-9842-28f0c3f7b8dd",
   "metadata": {},
   "outputs": [
    {
     "name": "stdin",
     "output_type": "stream",
     "text": [
      "Enter the total elements 5\n",
      "Enter the number: 2\n",
      "Enter the number: 3\n",
      "Enter the number: 4\n",
      "Enter the number: 5\n",
      "Enter the number: 6\n"
     ]
    },
    {
     "data": {
      "text/plain": [
       "array([2, 3, 4, 5, 6])"
      ]
     },
     "execution_count": 11,
     "metadata": {},
     "output_type": "execute_result"
    }
   ],
   "source": [
    "a=[]\n",
    "size=int(input(\"Enter the total elements\"))\n",
    "for i in range(size):\n",
    "    val=int(input(\"Enter the number:\"))\n",
    "    a.append(val)\n",
    "b=np.array(a)\n",
    "b\n"
   ]
  },
  {
   "cell_type": "markdown",
   "id": "58c08a37-3c42-4732-a6c4-e334bdde98ba",
   "metadata": {},
   "source": [
    "Pre-defined functions in numpy"
   ]
  },
  {
   "cell_type": "code",
   "execution_count": 12,
   "id": "7b0365f5-81e7-42b1-a939-cf5c920986e1",
   "metadata": {},
   "outputs": [],
   "source": [
    "#Matrix--> rows,columns\n",
    "# matrix--> n(r)=n(c)-->symmatrix matrix, n(r)1=n(c) --> asymmetric matrix\n",
    "# diagonal positional elements=[(1,1),(2,2),(3,3),(4,4)....(n,n)]"
   ]
  },
  {
   "cell_type": "code",
   "execution_count": 13,
   "id": "99d67e7d-8ccf-4e69-8d99-fce3a6a3fa02",
   "metadata": {},
   "outputs": [],
   "source": [
    "#(1) .zeros() --> it will create an array that contain all 0."
   ]
  },
  {
   "cell_type": "code",
   "execution_count": 15,
   "id": "ef207ccc-268a-4d7c-b783-ae3b30678863",
   "metadata": {},
   "outputs": [
    {
     "data": {
      "text/plain": [
       "array([0., 0., 0.])"
      ]
     },
     "execution_count": 15,
     "metadata": {},
     "output_type": "execute_result"
    }
   ],
   "source": [
    "a=np.zeros(3)\n",
    "a"
   ]
  },
  {
   "cell_type": "code",
   "execution_count": 17,
   "id": "a8a59190-8df1-4d26-8d04-73f8a71222ff",
   "metadata": {},
   "outputs": [
    {
     "data": {
      "text/plain": [
       "array([[0., 0., 0., 0.],\n",
       "       [0., 0., 0., 0.],\n",
       "       [0., 0., 0., 0.]])"
      ]
     },
     "execution_count": 17,
     "metadata": {},
     "output_type": "execute_result"
    }
   ],
   "source": [
    "a=np.zeros((3,4))\n",
    "a"
   ]
  },
  {
   "cell_type": "code",
   "execution_count": 19,
   "id": "141f15ad-5964-4881-8a41-29eeb929bb75",
   "metadata": {},
   "outputs": [
    {
     "data": {
      "text/plain": [
       "array([1., 1., 1., 1.])"
      ]
     },
     "execution_count": 19,
     "metadata": {},
     "output_type": "execute_result"
    }
   ],
   "source": [
    "a=np.ones(4)\n",
    "a"
   ]
  },
  {
   "cell_type": "code",
   "execution_count": 21,
   "id": "e32982fd-c730-46a2-8681-bd9f6bf936f2",
   "metadata": {},
   "outputs": [
    {
     "data": {
      "text/plain": [
       "array([[1., 1., 1., 1.],\n",
       "       [1., 1., 1., 1.],\n",
       "       [1., 1., 1., 1.]])"
      ]
     },
     "execution_count": 21,
     "metadata": {},
     "output_type": "execute_result"
    }
   ],
   "source": [
    "b=np.ones((3,4))\n",
    "b"
   ]
  },
  {
   "cell_type": "code",
   "execution_count": 22,
   "id": "9218081a-74b4-4ab6-912d-9481509d7525",
   "metadata": {},
   "outputs": [],
   "source": [
    "#3 .eye() -->it will create an array in which diagonal elements are 1 and rest all will be zero"
   ]
  },
  {
   "cell_type": "code",
   "execution_count": 23,
   "id": "2bb7dd6d-f74f-419d-99c0-0e1d2a40029b",
   "metadata": {},
   "outputs": [
    {
     "data": {
      "text/plain": [
       "array([[1., 0., 0.],\n",
       "       [0., 1., 0.],\n",
       "       [0., 0., 1.]])"
      ]
     },
     "execution_count": 23,
     "metadata": {},
     "output_type": "execute_result"
    }
   ],
   "source": [
    "a=np.eye(3,3)  ## symmetric\n",
    "a"
   ]
  },
  {
   "cell_type": "code",
   "execution_count": 24,
   "id": "c7483140-3559-4fe6-a1dd-078362078deb",
   "metadata": {},
   "outputs": [
    {
     "data": {
      "text/plain": [
       "array([[1., 0., 0., 0., 0.],\n",
       "       [0., 1., 0., 0., 0.],\n",
       "       [0., 0., 1., 0., 0.],\n",
       "       [0., 0., 0., 1., 0.]])"
      ]
     },
     "execution_count": 24,
     "metadata": {},
     "output_type": "execute_result"
    }
   ],
   "source": [
    "a=np.eye(4,5) # Asymmetric\n",
    "a"
   ]
  },
  {
   "cell_type": "code",
   "execution_count": 25,
   "id": "332af095-aed7-4176-b493-3e4c3297c126",
   "metadata": {},
   "outputs": [],
   "source": [
    "#(4) .diag() --> it will create an array in which we can out custom diagonal values."
   ]
  },
  {
   "cell_type": "code",
   "execution_count": 26,
   "id": "375f03ae-1c71-4594-97f9-b289008b205c",
   "metadata": {},
   "outputs": [
    {
     "data": {
      "text/plain": [
       "array([[2, 0, 0, 0, 0, 0],\n",
       "       [0, 3, 0, 0, 0, 0],\n",
       "       [0, 0, 4, 0, 0, 0],\n",
       "       [0, 0, 0, 5, 0, 0],\n",
       "       [0, 0, 0, 0, 6, 0],\n",
       "       [0, 0, 0, 0, 0, 3]])"
      ]
     },
     "execution_count": 26,
     "metadata": {},
     "output_type": "execute_result"
    }
   ],
   "source": [
    "a=np.array([2,3,4,5,6,3])\n",
    "b=np.diag(a)\n",
    "b"
   ]
  },
  {
   "cell_type": "code",
   "execution_count": 27,
   "id": "735b2bce-325d-4b65-b4cf-6260fe382695",
   "metadata": {},
   "outputs": [],
   "source": [
    "#(5) .Random-->\n",
    "#(a) .Randint() -->it will generate random numbers in a given range.\n",
    "#syntax: np.random.randint(min_number,max_number,total_numbers)\n",
    "\n",
    "\n",
    "#(b)  .Rand() --> it will generate random numbers from 0 to 1.\n",
    "#syntax:  np.random.rand(total_numbers)"
   ]
  },
  {
   "cell_type": "code",
   "execution_count": 28,
   "id": "1fe13226-c851-46fe-8454-c5e9441a9296",
   "metadata": {},
   "outputs": [
    {
     "data": {
      "text/plain": [
       "array([1, 6, 3])"
      ]
     },
     "execution_count": 28,
     "metadata": {},
     "output_type": "execute_result"
    }
   ],
   "source": [
    "a=np.random.randint(1,10,3)\n",
    "a"
   ]
  },
  {
   "cell_type": "code",
   "execution_count": 30,
   "id": "898761f7-1021-4478-8e5e-7db6521e6c60",
   "metadata": {},
   "outputs": [
    {
     "data": {
      "text/plain": [
       "array([0.39029715, 0.75221487, 0.17273522, 0.71746918, 0.91813651])"
      ]
     },
     "execution_count": 30,
     "metadata": {},
     "output_type": "execute_result"
    }
   ],
   "source": [
    "b=np.random.rand(5)\n",
    "b"
   ]
  },
  {
   "cell_type": "code",
   "execution_count": null,
   "id": "f63eb011-77a8-4be9-a38d-823aaca45c60",
   "metadata": {},
   "outputs": [],
   "source": []
  }
 ],
 "metadata": {
  "kernelspec": {
   "display_name": "Python 3 (ipykernel)",
   "language": "python",
   "name": "python3"
  },
  "language_info": {
   "codemirror_mode": {
    "name": "ipython",
    "version": 3
   },
   "file_extension": ".py",
   "mimetype": "text/x-python",
   "name": "python",
   "nbconvert_exporter": "python",
   "pygments_lexer": "ipython3",
   "version": "3.12.4"
  }
 },
 "nbformat": 4,
 "nbformat_minor": 5
}

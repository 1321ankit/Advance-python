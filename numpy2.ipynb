{
 "cells": [
  {
   "cell_type": "code",
   "execution_count": 1,
   "id": "4c72c2a7-41c9-4fe5-97e4-b5be7da841e1",
   "metadata": {},
   "outputs": [],
   "source": [
    "import numpy as np"
   ]
  },
  {
   "cell_type": "code",
   "execution_count": 2,
   "id": "4fe19635-4667-4a71-b0ee-d0fd690b7f6f",
   "metadata": {},
   "outputs": [],
   "source": [
    "# seed() --> for fix the random numbers, we will use seed()."
   ]
  },
  {
   "cell_type": "code",
   "execution_count": 3,
   "id": "c1d5f5b3-34d4-4b4b-9115-69eac6fec269",
   "metadata": {},
   "outputs": [
    {
     "data": {
      "text/plain": [
       "array([4, 1, 6])"
      ]
     },
     "execution_count": 3,
     "metadata": {},
     "output_type": "execute_result"
    }
   ],
   "source": [
    "np.random.seed(45)\n",
    "a=np.random.randint(1,10,3)\n",
    "a"
   ]
  },
  {
   "cell_type": "markdown",
   "id": "e40f44e7-68a2-4728-82b1-26a574363c82",
   "metadata": {},
   "source": [
    "**view vs copy**"
   ]
  },
  {
   "cell_type": "code",
   "execution_count": 5,
   "id": "b8b03196-9377-45d3-865d-0e7564e6e74c",
   "metadata": {},
   "outputs": [
    {
     "data": {
      "text/plain": [
       "array([10, 20, 30,  0,  0, 60, 70, 80, 90])"
      ]
     },
     "execution_count": 5,
     "metadata": {},
     "output_type": "execute_result"
    }
   ],
   "source": [
    "a=np.array([10,20,30,40,50,60,70,80,90])  ## view method means modification in the orignal array.\n",
    "b=a[3:5]\n",
    "b[:]=0\n",
    "b\n",
    "a"
   ]
  },
  {
   "cell_type": "code",
   "execution_count": 6,
   "id": "0e68f4c3-2a29-4f36-bd9e-5072170f303e",
   "metadata": {},
   "outputs": [
    {
     "data": {
      "text/plain": [
       "array([10, 20, 30, 40, 50, 60, 70, 80, 90])"
      ]
     },
     "execution_count": 6,
     "metadata": {},
     "output_type": "execute_result"
    }
   ],
   "source": [
    "a=np.array([10,20,30,40,50,60,70,80,90]) ##copy method will not update your orignal array.\n",
    "b=a[3:5].copy()\n",
    "b[:]=0\n",
    "b\n",
    "a"
   ]
  },
  {
   "cell_type": "markdown",
   "id": "8c7c5e42-77c0-45f6-b42e-85cd3ad38bde",
   "metadata": {},
   "source": [
    "**reshaping the array**"
   ]
  },
  {
   "cell_type": "markdown",
   "id": "30ce90b9-5fdf-4713-b177-95fd8818feb8",
   "metadata": {},
   "source": [
    "n(rows)*n(columns)=n(total_elements)\n"
   ]
  },
  {
   "cell_type": "code",
   "execution_count": 8,
   "id": "e8208345-3c81-402f-8beb-305f5f0a2232",
   "metadata": {},
   "outputs": [
    {
     "data": {
      "text/plain": [
       "array([36,  5, 16,  2, 15,  9, 24, 47,  9, 13, 35, 25])"
      ]
     },
     "execution_count": 8,
     "metadata": {},
     "output_type": "execute_result"
    }
   ],
   "source": [
    "a=np.random.randint(1,50,12)\n",
    "a"
   ]
  },
  {
   "cell_type": "code",
   "execution_count": 10,
   "id": "8e29d55d-7e8f-423c-b632-e2f34494789e",
   "metadata": {},
   "outputs": [
    {
     "data": {
      "text/plain": [
       "(12,)"
      ]
     },
     "execution_count": 10,
     "metadata": {},
     "output_type": "execute_result"
    }
   ],
   "source": [
    "a.shape"
   ]
  },
  {
   "cell_type": "code",
   "execution_count": 11,
   "id": "1bd6a0d7-defa-4db6-9f53-c9c53015e1ae",
   "metadata": {},
   "outputs": [],
   "source": [
    "# 1*12 , 12*1\n",
    "# 2*6 , 6*12\n",
    "# 3*4 , 4*3"
   ]
  },
  {
   "cell_type": "code",
   "execution_count": 12,
   "id": "6524e49e-3ed4-4511-a6d4-8359cf9117dc",
   "metadata": {},
   "outputs": [
    {
     "data": {
      "text/plain": [
       "array([[36,  5, 16,  2, 15,  9],\n",
       "       [24, 47,  9, 13, 35, 25]])"
      ]
     },
     "execution_count": 12,
     "metadata": {},
     "output_type": "execute_result"
    }
   ],
   "source": [
    "a.reshape(2,6)"
   ]
  },
  {
   "cell_type": "code",
   "execution_count": 13,
   "id": "143761d3-880e-43fd-a252-b213f4104637",
   "metadata": {},
   "outputs": [
    {
     "data": {
      "text/plain": [
       "array([[36,  5, 16,  2],\n",
       "       [15,  9, 24, 47],\n",
       "       [ 9, 13, 35, 25]])"
      ]
     },
     "execution_count": 13,
     "metadata": {},
     "output_type": "execute_result"
    }
   ],
   "source": [
    "a.reshape(3,4)"
   ]
  },
  {
   "cell_type": "code",
   "execution_count": 14,
   "id": "57eb3a2b-521b-467d-b653-b327e67cde2a",
   "metadata": {},
   "outputs": [
    {
     "data": {
      "text/plain": [
       "array([[36,  5, 16],\n",
       "       [ 2, 15,  9],\n",
       "       [24, 47,  9],\n",
       "       [13, 35, 25]])"
      ]
     },
     "execution_count": 14,
     "metadata": {},
     "output_type": "execute_result"
    }
   ],
   "source": [
    "a.reshape(4,3)"
   ]
  },
  {
   "cell_type": "code",
   "execution_count": 15,
   "id": "bc5a8d9f-cff8-4a57-a1d0-30d552a76a24",
   "metadata": {},
   "outputs": [
    {
     "ename": "ValueError",
     "evalue": "cannot reshape array of size 12 into shape (2,15)",
     "output_type": "error",
     "traceback": [
      "\u001b[1;31m---------------------------------------------------------------------------\u001b[0m",
      "\u001b[1;31mValueError\u001b[0m                                Traceback (most recent call last)",
      "Cell \u001b[1;32mIn[15], line 1\u001b[0m\n\u001b[1;32m----> 1\u001b[0m a\u001b[38;5;241m.\u001b[39mreshape(\u001b[38;5;241m2\u001b[39m,\u001b[38;5;241m15\u001b[39m)\n",
      "\u001b[1;31mValueError\u001b[0m: cannot reshape array of size 12 into shape (2,15)"
     ]
    }
   ],
   "source": [
    "a.reshape(2,15)   "
   ]
  },
  {
   "cell_type": "markdown",
   "id": "7fde3676-a615-4fe1-9313-b12a2f058691",
   "metadata": {},
   "source": [
    "**conditional selection in numpy**"
   ]
  },
  {
   "cell_type": "code",
   "execution_count": 16,
   "id": "60b5315a-8818-4410-96b4-5e830cad8c75",
   "metadata": {},
   "outputs": [
    {
     "data": {
      "text/plain": [
       "array([ 1,  2,  3,  4,  5,  6,  7,  8,  9, 10, 11, 12, 13, 14, 15])"
      ]
     },
     "execution_count": 16,
     "metadata": {},
     "output_type": "execute_result"
    }
   ],
   "source": [
    "a=np.arange(1,16,1)\n",
    "a"
   ]
  },
  {
   "cell_type": "code",
   "execution_count": 17,
   "id": "7169a69c-3677-47e9-8bb0-5d9354adbbb0",
   "metadata": {},
   "outputs": [
    {
     "data": {
      "text/plain": [
       "array([False, False, False, False, False, False, False, False, False,\n",
       "       False,  True,  True,  True,  True,  True])"
      ]
     },
     "execution_count": 17,
     "metadata": {},
     "output_type": "execute_result"
    }
   ],
   "source": [
    "a>10"
   ]
  },
  {
   "cell_type": "code",
   "execution_count": 19,
   "id": "7d690002-b6de-4a67-9832-fb9945961c0c",
   "metadata": {},
   "outputs": [
    {
     "data": {
      "text/plain": [
       "array([11, 12, 13, 14, 15])"
      ]
     },
     "execution_count": 19,
     "metadata": {},
     "output_type": "execute_result"
    }
   ],
   "source": [
    "b=a>10\n",
    "a[b]"
   ]
  },
  {
   "cell_type": "code",
   "execution_count": 20,
   "id": "34d51c23-4615-467b-a4d5-5fb84a663106",
   "metadata": {},
   "outputs": [
    {
     "data": {
      "text/plain": [
       "array([ 2,  4,  6,  8, 10, 12, 14])"
      ]
     },
     "execution_count": 20,
     "metadata": {},
     "output_type": "execute_result"
    }
   ],
   "source": [
    "a[a%2==0]"
   ]
  },
  {
   "cell_type": "code",
   "execution_count": 21,
   "id": "9bfa8f22-371d-481a-9bc2-7d38757ed47c",
   "metadata": {},
   "outputs": [
    {
     "data": {
      "text/plain": [
       "array([ 1,  3,  5,  7,  9, 11, 13, 15])"
      ]
     },
     "execution_count": 21,
     "metadata": {},
     "output_type": "execute_result"
    }
   ],
   "source": [
    "a[a%2!=0]"
   ]
  },
  {
   "cell_type": "code",
   "execution_count": 23,
   "id": "ceb6712e-d651-451d-b99e-6c30778cece9",
   "metadata": {},
   "outputs": [
    {
     "data": {
      "text/plain": [
       "array([[1, 2],\n",
       "       [3, 4]])"
      ]
     },
     "execution_count": 23,
     "metadata": {},
     "output_type": "execute_result"
    }
   ],
   "source": [
    "a=np.arange(1,5).reshape(2,2)\n",
    "a"
   ]
  },
  {
   "cell_type": "code",
   "execution_count": 24,
   "id": "38e307ad-aa47-4815-81dc-ce4b88df03c4",
   "metadata": {},
   "outputs": [
    {
     "data": {
      "text/plain": [
       "array([[5, 6],\n",
       "       [7, 8]])"
      ]
     },
     "execution_count": 24,
     "metadata": {},
     "output_type": "execute_result"
    }
   ],
   "source": [
    "b=np.arange(5,9).reshape(2,2)\n",
    "b"
   ]
  },
  {
   "cell_type": "code",
   "execution_count": 25,
   "id": "72c638fd-f410-483e-971d-00fa96d55d9e",
   "metadata": {},
   "outputs": [
    {
     "data": {
      "text/plain": [
       "array([[ 6,  8],\n",
       "       [10, 12]])"
      ]
     },
     "execution_count": 25,
     "metadata": {},
     "output_type": "execute_result"
    }
   ],
   "source": [
    "a+b"
   ]
  },
  {
   "cell_type": "code",
   "execution_count": 26,
   "id": "4606b8aa-6d57-46f0-b6ea-8884bbc5c42c",
   "metadata": {},
   "outputs": [
    {
     "data": {
      "text/plain": [
       "array([[-4, -4],\n",
       "       [-4, -4]])"
      ]
     },
     "execution_count": 26,
     "metadata": {},
     "output_type": "execute_result"
    }
   ],
   "source": [
    "a-b"
   ]
  },
  {
   "cell_type": "code",
   "execution_count": 27,
   "id": "258a85b3-39b9-4e00-bfff-679640432a4e",
   "metadata": {},
   "outputs": [
    {
     "data": {
      "text/plain": [
       "array([[0.2       , 0.33333333],\n",
       "       [0.42857143, 0.5       ]])"
      ]
     },
     "execution_count": 27,
     "metadata": {},
     "output_type": "execute_result"
    }
   ],
   "source": [
    "a/b"
   ]
  },
  {
   "cell_type": "code",
   "execution_count": 28,
   "id": "4180457d-66d2-4b73-a2d4-2fbe637c9282",
   "metadata": {},
   "outputs": [
    {
     "data": {
      "text/plain": [
       "array([[19, 22],\n",
       "       [43, 50]])"
      ]
     },
     "execution_count": 28,
     "metadata": {},
     "output_type": "execute_result"
    }
   ],
   "source": [
    "a.dot(b)   # multiply of 2 matrix is done by using .dot() method."
   ]
  },
  {
   "cell_type": "code",
   "execution_count": 29,
   "id": "3420edfd-1a28-4bb5-8803-8d6f0c0a0994",
   "metadata": {},
   "outputs": [],
   "source": [
    "# linSpace() --> it will return the values with same gap numbers."
   ]
  },
  {
   "cell_type": "code",
   "execution_count": 30,
   "id": "0051c58d-e7a0-470f-b214-e47d99b584cb",
   "metadata": {},
   "outputs": [
    {
     "data": {
      "text/plain": [
       "array([1.  , 1.25, 1.5 , 1.75, 2.  ])"
      ]
     },
     "execution_count": 30,
     "metadata": {},
     "output_type": "execute_result"
    }
   ],
   "source": [
    "a=np.linspace(1,2,5)\n",
    "a"
   ]
  },
  {
   "cell_type": "code",
   "execution_count": 31,
   "id": "eebf49cc-490a-47b6-94e8-b0c4bcaf8dfa",
   "metadata": {},
   "outputs": [],
   "source": [
    "# Unique() ---> it will return 3 array.\n",
    "# (1). array-----> it will return array in which we have unique values.\n",
    "# (2). return_index=True ---> unique value indexing.\n",
    "# (3). return_counts=True ---> it will return frequeny of each unique values."
   ]
  },
  {
   "cell_type": "code",
   "execution_count": 34,
   "id": "70d6f39e-f4d6-4fd7-904f-c411c6540c99",
   "metadata": {},
   "outputs": [
    {
     "data": {
      "text/plain": [
       "(array([10, 20, 30, 40, 50]),\n",
       " array([ 0,  1,  5,  8, 11], dtype=int64),\n",
       " array([3, 3, 3, 2, 1], dtype=int64))"
      ]
     },
     "execution_count": 34,
     "metadata": {},
     "output_type": "execute_result"
    }
   ],
   "source": [
    "a=np.array([10,20,10,10,20,30,20,30,40,30,40,50])\n",
    "np.unique(a, return_index=True, return_counts=True)"
   ]
  },
  {
   "cell_type": "markdown",
   "id": "d8fe4401-74dc-4607-af79-53d0a2d9c22b",
   "metadata": {},
   "source": [
    "**Hstack and Vstack**"
   ]
  },
  {
   "cell_type": "code",
   "execution_count": 35,
   "id": "211c8426-e95f-43a1-8acc-2ad063d65087",
   "metadata": {},
   "outputs": [],
   "source": [
    "a=np.array([1,2,3,4])\n",
    "b=np.array([5,6,7,8])\n",
    "c=np.array([9,10,11,12])\n"
   ]
  },
  {
   "cell_type": "code",
   "execution_count": 36,
   "id": "bff60d87-e93e-4922-8520-5759ed68580e",
   "metadata": {},
   "outputs": [
    {
     "data": {
      "text/plain": [
       "array([ 1,  2,  3,  4,  5,  6,  7,  8,  9, 10, 11, 12])"
      ]
     },
     "execution_count": 36,
     "metadata": {},
     "output_type": "execute_result"
    }
   ],
   "source": [
    "np.hstack((a,b,c))"
   ]
  },
  {
   "cell_type": "code",
   "execution_count": 37,
   "id": "bab68b9c-a547-4adc-8ca9-c3c47a924b27",
   "metadata": {},
   "outputs": [
    {
     "data": {
      "text/plain": [
       "array([[ 1,  2,  3,  4],\n",
       "       [ 5,  6,  7,  8],\n",
       "       [ 9, 10, 11, 12]])"
      ]
     },
     "execution_count": 37,
     "metadata": {},
     "output_type": "execute_result"
    }
   ],
   "source": [
    "np.vstack((a,b,c))"
   ]
  },
  {
   "cell_type": "code",
   "execution_count": null,
   "id": "df6392eb-39ba-4a82-b8e7-0ab16c3c9500",
   "metadata": {},
   "outputs": [],
   "source": []
  }
 ],
 "metadata": {
  "kernelspec": {
   "display_name": "Python 3 (ipykernel)",
   "language": "python",
   "name": "python3"
  },
  "language_info": {
   "codemirror_mode": {
    "name": "ipython",
    "version": 3
   },
   "file_extension": ".py",
   "mimetype": "text/x-python",
   "name": "python",
   "nbconvert_exporter": "python",
   "pygments_lexer": "ipython3",
   "version": "3.12.4"
  }
 },
 "nbformat": 4,
 "nbformat_minor": 5
}

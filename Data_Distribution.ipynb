{
 "cells": [
  {
   "cell_type": "code",
   "execution_count": 1,
   "id": "3097b9ff-2fca-4dcb-ae1d-1b8694f3187f",
   "metadata": {},
   "outputs": [],
   "source": [
    "# Data distribution\n",
    "# df ----> x(input) + y(target)\n",
    "# x(input) ---> x_train + x_test\n",
    "# y(target) ---> y_train + y_test\n",
    "\n",
    "\n",
    "# ML_Model(x_train + y_train)\n",
    "# prediction(x_test) ---> y_pred \n",
    "# Accuracy(y_test , y_pred)"
   ]
  },
  {
   "cell_type": "code",
   "execution_count": 2,
   "id": "39a4fee1-fe5d-4dcb-bcaa-1c61ef878373",
   "metadata": {},
   "outputs": [],
   "source": [
    "# df = cgpa, resume_score, placed\n",
    "# x= cgpa, resume_score(100)\n",
    "# y= placed(100)\n",
    "# x= x_train(80) , x_test(20)\n",
    "# y= y_train(80) , y_test(20)"
   ]
  },
  {
   "cell_type": "code",
   "execution_count": 3,
   "id": "1d3b8268-32c9-43f6-b2a0-fe90977819ff",
   "metadata": {},
   "outputs": [],
   "source": [
    "import numpy as np\n",
    "import pandas as pd"
   ]
  },
  {
   "cell_type": "code",
   "execution_count": 4,
   "id": "90ff2eb1-cda7-444a-9bce-eec02956046e",
   "metadata": {},
   "outputs": [],
   "source": [
    "df=pd.read_csv('placement.csv')"
   ]
  },
  {
   "cell_type": "code",
   "execution_count": 5,
   "id": "aff0c322-8f2d-486f-a8b8-c97d3604e33e",
   "metadata": {},
   "outputs": [
    {
     "data": {
      "text/html": [
       "<div>\n",
       "<style scoped>\n",
       "    .dataframe tbody tr th:only-of-type {\n",
       "        vertical-align: middle;\n",
       "    }\n",
       "\n",
       "    .dataframe tbody tr th {\n",
       "        vertical-align: top;\n",
       "    }\n",
       "\n",
       "    .dataframe thead th {\n",
       "        text-align: right;\n",
       "    }\n",
       "</style>\n",
       "<table border=\"1\" class=\"dataframe\">\n",
       "  <thead>\n",
       "    <tr style=\"text-align: right;\">\n",
       "      <th></th>\n",
       "      <th>cgpa</th>\n",
       "      <th>resume_score</th>\n",
       "      <th>placed</th>\n",
       "    </tr>\n",
       "  </thead>\n",
       "  <tbody>\n",
       "    <tr>\n",
       "      <th>0</th>\n",
       "      <td>8.14</td>\n",
       "      <td>6.52</td>\n",
       "      <td>1</td>\n",
       "    </tr>\n",
       "    <tr>\n",
       "      <th>1</th>\n",
       "      <td>6.17</td>\n",
       "      <td>5.17</td>\n",
       "      <td>0</td>\n",
       "    </tr>\n",
       "    <tr>\n",
       "      <th>2</th>\n",
       "      <td>8.27</td>\n",
       "      <td>8.86</td>\n",
       "      <td>1</td>\n",
       "    </tr>\n",
       "  </tbody>\n",
       "</table>\n",
       "</div>"
      ],
      "text/plain": [
       "   cgpa  resume_score  placed\n",
       "0  8.14          6.52       1\n",
       "1  6.17          5.17       0\n",
       "2  8.27          8.86       1"
      ]
     },
     "execution_count": 5,
     "metadata": {},
     "output_type": "execute_result"
    }
   ],
   "source": [
    "df.head(3)"
   ]
  },
  {
   "cell_type": "code",
   "execution_count": 6,
   "id": "17b54bf7-ca51-4f8b-b856-09b8dca1a7e8",
   "metadata": {},
   "outputs": [
    {
     "data": {
      "text/plain": [
       "(100, 3)"
      ]
     },
     "execution_count": 6,
     "metadata": {},
     "output_type": "execute_result"
    }
   ],
   "source": [
    "df.shape"
   ]
  },
  {
   "cell_type": "code",
   "execution_count": 7,
   "id": "99824749-cbeb-4291-915d-36ef68a2761d",
   "metadata": {},
   "outputs": [],
   "source": [
    "x= df.drop(columns=['placed']) ## Input data\n",
    "y= df['placed']  # target data"
   ]
  },
  {
   "cell_type": "code",
   "execution_count": 8,
   "id": "f4b9688f-73dc-4cda-9fa2-ab753807a3f3",
   "metadata": {},
   "outputs": [
    {
     "name": "stdout",
     "output_type": "stream",
     "text": [
      "Dataframe =  (100, 3)\n",
      "x shape=  (100, 2)\n",
      "y shape=  (100,)\n"
     ]
    }
   ],
   "source": [
    "print('Dataframe = ',df.shape)\n",
    "print('x shape= ',x.shape)\n",
    "print('y shape= ',y.shape)"
   ]
  },
  {
   "cell_type": "code",
   "execution_count": 9,
   "id": "572d0fc0-f689-425e-9c97-b11f0b09b96c",
   "metadata": {},
   "outputs": [
    {
     "name": "stdout",
     "output_type": "stream",
     "text": [
      "Defaulting to user installation because normal site-packages is not writeable\n",
      "Requirement already satisfied: scikit-learn in c:\\programdata\\anaconda3\\lib\\site-packages (1.4.2)\n",
      "Requirement already satisfied: numpy>=1.19.5 in c:\\programdata\\anaconda3\\lib\\site-packages (from scikit-learn) (1.26.4)\n",
      "Requirement already satisfied: scipy>=1.6.0 in c:\\programdata\\anaconda3\\lib\\site-packages (from scikit-learn) (1.13.1)\n",
      "Requirement already satisfied: joblib>=1.2.0 in c:\\programdata\\anaconda3\\lib\\site-packages (from scikit-learn) (1.4.2)\n",
      "Requirement already satisfied: threadpoolctl>=2.0.0 in c:\\programdata\\anaconda3\\lib\\site-packages (from scikit-learn) (2.2.0)\n"
     ]
    }
   ],
   "source": [
    "!pip install scikit-learn"
   ]
  },
  {
   "cell_type": "code",
   "execution_count": 10,
   "id": "5c15a816-1991-4ca9-a779-41c2fd598d47",
   "metadata": {},
   "outputs": [],
   "source": [
    "from sklearn.model_selection import train_test_split"
   ]
  },
  {
   "cell_type": "code",
   "execution_count": 11,
   "id": "bfa492ee-a9d0-44a2-b6d9-f81ddf268ea9",
   "metadata": {},
   "outputs": [],
   "source": [
    "x_train , x_test , y_train , y_test = train_test_split(x, y, test_size=0.2, random_state=30)"
   ]
  },
  {
   "cell_type": "code",
   "execution_count": 12,
   "id": "99ced515-6856-424f-b0a5-53eaa52a76e0",
   "metadata": {},
   "outputs": [
    {
     "name": "stdout",
     "output_type": "stream",
     "text": [
      "DataFrame shape =  (100, 3)\n",
      "x shape=  (100, 2)\n",
      "x_train shape=  (80, 2)\n",
      "x_test shape= (20, 2)\n",
      "y shape=  (100,)\n",
      "y_train shape=  (80,)\n",
      "y_test shape= (20,)\n"
     ]
    }
   ],
   "source": [
    "print('DataFrame shape = ',df.shape)\n",
    "print('x shape= ',x.shape)\n",
    "print('x_train shape= ',x_train.shape)\n",
    "print('x_test shape=', x_test.shape)\n",
    "\n",
    "\n",
    "print('y shape= ', y.shape)\n",
    "print('y_train shape= ',y_train.shape)\n",
    "print('y_test shape=', y_test.shape)"
   ]
  },
  {
   "cell_type": "code",
   "execution_count": 13,
   "id": "5a40be8b-5b46-40a2-96b7-55fdcde4dea0",
   "metadata": {},
   "outputs": [],
   "source": [
    "# df(100,3)= x(100,2)+ y(100,1)\n",
    "# x(100,2)= x_train(80,2) + x_test(20,2)\n",
    "#y(100,1)=y_train(80,1) + y_test(20,1)"
   ]
  },
  {
   "cell_type": "code",
   "execution_count": null,
   "id": "4ccc0000-a7f9-4099-be4f-5015a4eb182b",
   "metadata": {},
   "outputs": [],
   "source": []
  },
  {
   "cell_type": "code",
   "execution_count": null,
   "id": "307a5bd5-a08e-4cf6-896e-88fadd5dbb23",
   "metadata": {},
   "outputs": [],
   "source": []
  },
  {
   "cell_type": "code",
   "execution_count": null,
   "id": "24a747ef-c84b-44c9-ae77-ff6dbc61b217",
   "metadata": {},
   "outputs": [],
   "source": []
  },
  {
   "cell_type": "code",
   "execution_count": null,
   "id": "9cc2661c-1c47-4ffd-825e-36f281e0f08d",
   "metadata": {},
   "outputs": [],
   "source": []
  },
  {
   "cell_type": "code",
   "execution_count": 14,
   "id": "6eb8f7a9-db14-4dcf-ad18-45705be42865",
   "metadata": {},
   "outputs": [],
   "source": [
    "df=pd.read_csv('covid_toy.csv')"
   ]
  },
  {
   "cell_type": "code",
   "execution_count": 15,
   "id": "c2555dfa-2965-4b09-9922-e55eed695163",
   "metadata": {},
   "outputs": [
    {
     "data": {
      "text/html": [
       "<div>\n",
       "<style scoped>\n",
       "    .dataframe tbody tr th:only-of-type {\n",
       "        vertical-align: middle;\n",
       "    }\n",
       "\n",
       "    .dataframe tbody tr th {\n",
       "        vertical-align: top;\n",
       "    }\n",
       "\n",
       "    .dataframe thead th {\n",
       "        text-align: right;\n",
       "    }\n",
       "</style>\n",
       "<table border=\"1\" class=\"dataframe\">\n",
       "  <thead>\n",
       "    <tr style=\"text-align: right;\">\n",
       "      <th></th>\n",
       "      <th>age</th>\n",
       "      <th>gender</th>\n",
       "      <th>fever</th>\n",
       "      <th>cough</th>\n",
       "      <th>city</th>\n",
       "      <th>has_covid</th>\n",
       "    </tr>\n",
       "  </thead>\n",
       "  <tbody>\n",
       "    <tr>\n",
       "      <th>0</th>\n",
       "      <td>60</td>\n",
       "      <td>Male</td>\n",
       "      <td>103.0</td>\n",
       "      <td>Mild</td>\n",
       "      <td>Kolkata</td>\n",
       "      <td>No</td>\n",
       "    </tr>\n",
       "    <tr>\n",
       "      <th>1</th>\n",
       "      <td>27</td>\n",
       "      <td>Male</td>\n",
       "      <td>100.0</td>\n",
       "      <td>Mild</td>\n",
       "      <td>Delhi</td>\n",
       "      <td>Yes</td>\n",
       "    </tr>\n",
       "    <tr>\n",
       "      <th>2</th>\n",
       "      <td>42</td>\n",
       "      <td>Male</td>\n",
       "      <td>101.0</td>\n",
       "      <td>Mild</td>\n",
       "      <td>Delhi</td>\n",
       "      <td>No</td>\n",
       "    </tr>\n",
       "  </tbody>\n",
       "</table>\n",
       "</div>"
      ],
      "text/plain": [
       "   age gender  fever cough     city has_covid\n",
       "0   60   Male  103.0  Mild  Kolkata        No\n",
       "1   27   Male  100.0  Mild    Delhi       Yes\n",
       "2   42   Male  101.0  Mild    Delhi        No"
      ]
     },
     "execution_count": 15,
     "metadata": {},
     "output_type": "execute_result"
    }
   ],
   "source": [
    "df.head(3)"
   ]
  },
  {
   "cell_type": "code",
   "execution_count": 16,
   "id": "df145113-1e63-454e-8f5d-8128d8611b26",
   "metadata": {},
   "outputs": [
    {
     "data": {
      "text/plain": [
       "has_covid\n",
       "No     55\n",
       "Yes    45\n",
       "Name: count, dtype: int64"
      ]
     },
     "execution_count": 16,
     "metadata": {},
     "output_type": "execute_result"
    }
   ],
   "source": [
    "df['has_covid'].value_counts()"
   ]
  },
  {
   "cell_type": "code",
   "execution_count": 17,
   "id": "e6b40145-7b57-42e9-93be-673930a88841",
   "metadata": {},
   "outputs": [],
   "source": [
    "df['gender']=df['gender'].map({'Male':0,'Female':1})\n"
   ]
  },
  {
   "cell_type": "code",
   "execution_count": 18,
   "id": "1f2fc637-5fa3-4a2a-a535-5466a2bdb53d",
   "metadata": {},
   "outputs": [],
   "source": [
    "df['cough']=df['cough'].map({'Mild':0,'Strong':1})"
   ]
  },
  {
   "cell_type": "code",
   "execution_count": 19,
   "id": "eabe4962-fd83-4f84-ba3e-eee51161716c",
   "metadata": {},
   "outputs": [
    {
     "data": {
      "text/plain": [
       "city\n",
       "Kolkata      32\n",
       "Bangalore    30\n",
       "Delhi        22\n",
       "Mumbai       16\n",
       "Name: count, dtype: int64"
      ]
     },
     "execution_count": 19,
     "metadata": {},
     "output_type": "execute_result"
    }
   ],
   "source": [
    "df['city'].value_counts()"
   ]
  },
  {
   "cell_type": "code",
   "execution_count": 20,
   "id": "54dfa2ce-1b84-4f7e-8db9-50e1dad350ae",
   "metadata": {},
   "outputs": [],
   "source": [
    "df['city']=df['city'].map({'Kolkata':0,'Bangalore':1,'Delhi':2,'Mumbai':3})"
   ]
  },
  {
   "cell_type": "code",
   "execution_count": 21,
   "id": "400a6a4b-7fdf-4c34-9d95-9451bd362265",
   "metadata": {},
   "outputs": [],
   "source": [
    "df['has_covid'] = df['has_covid'].map({\"No\":0,\"Yes\":1})"
   ]
  },
  {
   "cell_type": "code",
   "execution_count": 22,
   "id": "a572dbdd-452d-4b43-951d-c7da1062b585",
   "metadata": {},
   "outputs": [
    {
     "data": {
      "text/html": [
       "<div>\n",
       "<style scoped>\n",
       "    .dataframe tbody tr th:only-of-type {\n",
       "        vertical-align: middle;\n",
       "    }\n",
       "\n",
       "    .dataframe tbody tr th {\n",
       "        vertical-align: top;\n",
       "    }\n",
       "\n",
       "    .dataframe thead th {\n",
       "        text-align: right;\n",
       "    }\n",
       "</style>\n",
       "<table border=\"1\" class=\"dataframe\">\n",
       "  <thead>\n",
       "    <tr style=\"text-align: right;\">\n",
       "      <th></th>\n",
       "      <th>age</th>\n",
       "      <th>gender</th>\n",
       "      <th>fever</th>\n",
       "      <th>cough</th>\n",
       "      <th>city</th>\n",
       "      <th>has_covid</th>\n",
       "    </tr>\n",
       "  </thead>\n",
       "  <tbody>\n",
       "    <tr>\n",
       "      <th>0</th>\n",
       "      <td>60</td>\n",
       "      <td>0</td>\n",
       "      <td>103.0</td>\n",
       "      <td>0</td>\n",
       "      <td>0</td>\n",
       "      <td>0</td>\n",
       "    </tr>\n",
       "    <tr>\n",
       "      <th>1</th>\n",
       "      <td>27</td>\n",
       "      <td>0</td>\n",
       "      <td>100.0</td>\n",
       "      <td>0</td>\n",
       "      <td>2</td>\n",
       "      <td>1</td>\n",
       "    </tr>\n",
       "    <tr>\n",
       "      <th>2</th>\n",
       "      <td>42</td>\n",
       "      <td>0</td>\n",
       "      <td>101.0</td>\n",
       "      <td>0</td>\n",
       "      <td>2</td>\n",
       "      <td>0</td>\n",
       "    </tr>\n",
       "  </tbody>\n",
       "</table>\n",
       "</div>"
      ],
      "text/plain": [
       "   age  gender  fever  cough  city  has_covid\n",
       "0   60       0  103.0      0     0          0\n",
       "1   27       0  100.0      0     2          1\n",
       "2   42       0  101.0      0     2          0"
      ]
     },
     "execution_count": 22,
     "metadata": {},
     "output_type": "execute_result"
    }
   ],
   "source": [
    "df.head(3)"
   ]
  },
  {
   "cell_type": "code",
   "execution_count": 23,
   "id": "35c4276a-1372-4b54-bf80-671e805a1d66",
   "metadata": {},
   "outputs": [
    {
     "data": {
      "text/plain": [
       "age           0\n",
       "gender        0\n",
       "fever        10\n",
       "cough         0\n",
       "city          0\n",
       "has_covid     0\n",
       "dtype: int64"
      ]
     },
     "execution_count": 23,
     "metadata": {},
     "output_type": "execute_result"
    }
   ],
   "source": [
    "df.isnull().sum()"
   ]
  },
  {
   "cell_type": "code",
   "execution_count": 24,
   "id": "8fa902cd-88ef-4906-a2c6-6dab691204f6",
   "metadata": {},
   "outputs": [],
   "source": [
    "from sklearn.impute import SimpleImputer    # simpleimpute will fill the missing data with mean, median, mode."
   ]
  },
  {
   "cell_type": "code",
   "execution_count": 25,
   "id": "611caae9-66b4-43d4-9ba6-bf8d9182d01d",
   "metadata": {},
   "outputs": [],
   "source": [
    "si=SimpleImputer(strategy='mean')"
   ]
  },
  {
   "cell_type": "code",
   "execution_count": 26,
   "id": "3c831fdb-62bb-4b54-b0d0-5aca749faea2",
   "metadata": {},
   "outputs": [],
   "source": [
    "df['fever']=si.fit_transform(df[['fever']])   ###fit means learn the parameter and transform means apply on that."
   ]
  },
  {
   "cell_type": "code",
   "execution_count": 27,
   "id": "cfe0c0fa-2105-4f6b-b8eb-7e9fff57c725",
   "metadata": {},
   "outputs": [
    {
     "data": {
      "text/plain": [
       "age          0\n",
       "gender       0\n",
       "fever        0\n",
       "cough        0\n",
       "city         0\n",
       "has_covid    0\n",
       "dtype: int64"
      ]
     },
     "execution_count": 27,
     "metadata": {},
     "output_type": "execute_result"
    }
   ],
   "source": [
    "df.isnull().sum()"
   ]
  },
  {
   "cell_type": "code",
   "execution_count": 28,
   "id": "209a7fb6-a5f6-4cd0-a8cc-198c9b24128d",
   "metadata": {},
   "outputs": [
    {
     "data": {
      "text/plain": [
       "(100, 6)"
      ]
     },
     "execution_count": 28,
     "metadata": {},
     "output_type": "execute_result"
    }
   ],
   "source": [
    "df.shape"
   ]
  },
  {
   "cell_type": "code",
   "execution_count": 33,
   "id": "c214e43e-d0c4-49f9-8ac7-4f90fad58554",
   "metadata": {},
   "outputs": [],
   "source": [
    "x=df.drop(columns=['has_covid'])"
   ]
  },
  {
   "cell_type": "code",
   "execution_count": 34,
   "id": "34ddb401-9aac-4055-b1c3-851489ce0825",
   "metadata": {},
   "outputs": [],
   "source": [
    "y=df['has_covid']"
   ]
  },
  {
   "cell_type": "code",
   "execution_count": 35,
   "id": "22edb6e0-258a-409e-8cfd-ccc003ff0047",
   "metadata": {},
   "outputs": [],
   "source": [
    "from sklearn.model_selection import train_test_split "
   ]
  },
  {
   "cell_type": "code",
   "execution_count": 36,
   "id": "b4c5e18a-f8dc-4d9f-9d6a-d708b7ea9857",
   "metadata": {},
   "outputs": [],
   "source": [
    "x_train , x_test , y_train , y_test = train_test_split(x,y,test_size = 0.2 , random_state = 30) "
   ]
  },
  {
   "cell_type": "code",
   "execution_count": 37,
   "id": "ecbc8666-d749-4bad-af8e-c50635ff3ff3",
   "metadata": {},
   "outputs": [
    {
     "name": "stdout",
     "output_type": "stream",
     "text": [
      "DataFrame shape =  (100, 6)\n",
      "x shape =  (100, 5)\n",
      "x_train shape =  (80, 5)\n",
      "x_test shape =  (20, 5)\n",
      "y shape =  (100,)\n",
      "y_train shape =  (80,)\n",
      "y_test shape =  (20,)\n"
     ]
    }
   ],
   "source": [
    "print(\"DataFrame shape = \" , df.shape)\n",
    "print(\"x shape = \" , x.shape)\n",
    "print(\"x_train shape = \" , x_train.shape)\n",
    "print(\"x_test shape = \" , x_test.shape)\n",
    "\n",
    "print(\"y shape = \" , y.shape)\n",
    "print(\"y_train shape = \" , y_train.shape)\n",
    "print(\"y_test shape = \" , y_test.shape)"
   ]
  },
  {
   "cell_type": "code",
   "execution_count": 32,
   "id": "a888aa42-9207-41da-b7e6-14b612985b6c",
   "metadata": {},
   "outputs": [],
   "source": [
    "# df(100,6) = x(100,5) + y(100,1)\n",
    "# x(100,5) = x_train(80,5) + x_test(20,5)\n",
    "# y(100,1) = y_train(80,1) + y_test(20,1)"
   ]
  },
  {
   "cell_type": "code",
   "execution_count": null,
   "id": "fc80fab9-0324-4c28-a8a8-80f0c44da970",
   "metadata": {},
   "outputs": [],
   "source": []
  },
  {
   "cell_type": "code",
   "execution_count": null,
   "id": "4fd1ea93-af00-441e-b609-fb641f736016",
   "metadata": {},
   "outputs": [],
   "source": []
  }
 ],
 "metadata": {
  "kernelspec": {
   "display_name": "Python 3 (ipykernel)",
   "language": "python",
   "name": "python3"
  },
  "language_info": {
   "codemirror_mode": {
    "name": "ipython",
    "version": 3
   },
   "file_extension": ".py",
   "mimetype": "text/x-python",
   "name": "python",
   "nbconvert_exporter": "python",
   "pygments_lexer": "ipython3",
   "version": "3.12.4"
  }
 },
 "nbformat": 4,
 "nbformat_minor": 5
}
